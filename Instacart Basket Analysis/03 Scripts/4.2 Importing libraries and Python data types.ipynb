{
 "cells": [
  {
   "cell_type": "markdown",
   "id": "5ff62916",
   "metadata": {},
   "source": [
    "# Importing libraries\n",
    "import pandas as pd\n",
    "import numpy as np\n",
    "import os"
   ]
  },
  {
   "cell_type": "code",
   "execution_count": 1,
   "id": "45baaa7e",
   "metadata": {},
   "outputs": [],
   "source": [
    "# Python data types\n",
    "import pandas as pd \n",
    "import numpy as np \n",
    "import os\n"
   ]
  },
  {
   "cell_type": "code",
   "execution_count": 1,
   "id": "10271071",
   "metadata": {},
   "outputs": [
    {
     "name": "stdout",
     "output_type": "stream",
     "text": [
      "100\n"
     ]
    }
   ],
   "source": [
    "# Code 3 different ways 100\n",
    "x = 50 + 50\n",
    "print(x)"
   ]
  },
  {
   "cell_type": "code",
   "execution_count": 3,
   "id": "8980920d",
   "metadata": {},
   "outputs": [
    {
     "name": "stdout",
     "output_type": "stream",
     "text": [
      "100\n"
     ]
    }
   ],
   "source": [
    "y = 150 - 50\n",
    "print(y)"
   ]
  },
  {
   "cell_type": "code",
   "execution_count": 9,
   "id": "a263a399",
   "metadata": {},
   "outputs": [
    {
     "name": "stdout",
     "output_type": "stream",
     "text": [
      "100\n"
     ]
    }
   ],
   "source": [
    "a = 99\n",
    "z = 1\n",
    "print(a+z)"
   ]
  },
  {
   "cell_type": "code",
   "execution_count": 10,
   "id": "9e963e0f",
   "metadata": {},
   "outputs": [
    {
     "data": {
      "text/plain": [
       "3.0"
      ]
     },
     "execution_count": 10,
     "metadata": {},
     "output_type": "execute_result"
    }
   ],
   "source": [
    "# Code 2 floating-point variable and divide them by each other\n",
    "x = 15\n",
    "y = 5\n",
    "x/y\n"
   ]
  },
  {
   "cell_type": "code",
   "execution_count": 12,
   "id": "af751b72",
   "metadata": {
    "scrolled": true
   },
   "outputs": [
    {
     "data": {
      "text/plain": [
       "'Football'"
      ]
     },
     "execution_count": 12,
     "metadata": {},
     "output_type": "execute_result"
    }
   ],
   "source": [
    "# Construct a short word made of separate strings\n",
    "a = 'Foot'\n",
    "b = 'ball'\n",
    "a+b\n"
   ]
  },
  {
   "cell_type": "code",
   "execution_count": 15,
   "id": "b1637615",
   "metadata": {},
   "outputs": [
    {
     "name": "stdout",
     "output_type": "stream",
     "text": [
      "I want to go and buy a new mobile.\n"
     ]
    }
   ],
   "source": [
    "# Construct 2 short sentences made of separate strings\n",
    "a = 'buy a new mobile.'\n",
    "b = 'I want to go and '\n",
    "print(b+a)"
   ]
  },
  {
   "cell_type": "code",
   "execution_count": 22,
   "id": "0664b87f",
   "metadata": {},
   "outputs": [
    {
     "name": "stdout",
     "output_type": "stream",
     "text": [
      "Hey Clinton, how are you? Hey Clinton, how are you? Hey Clinton, how are you? Hey Clinton, how are you? Hey Clinton, how are you? Hey Clinton, how are you? Hey Clinton, how are you? Hey Clinton, how are you? Hey Clinton, how are you? Hey Clinton, how are you? Hey Clinton, how are you? Hey Clinton, how are you? Hey Clinton, how are you? Hey Clinton, how are you? Hey Clinton, how are you? Hey Clinton, how are you? Hey Clinton, how are you? Hey Clinton, how are you? Hey Clinton, how are you? Hey Clinton, how are you? Hey Clinton, how are you? Hey Clinton, how are you? Hey Clinton, how are you? Hey Clinton, how are you? Hey Clinton, how are you? Hey Clinton, how are you? Hey Clinton, how are you? Hey Clinton, how are you? Hey Clinton, how are you? Hey Clinton, how are you? Hey Clinton, how are you? Hey Clinton, how are you? Hey Clinton, how are you? Hey Clinton, how are you? Hey Clinton, how are you? Hey Clinton, how are you? Hey Clinton, how are you? Hey Clinton, how are you? Hey Clinton, how are you? Hey Clinton, how are you? Hey Clinton, how are you? Hey Clinton, how are you? Hey Clinton, how are you? Hey Clinton, how are you? Hey Clinton, how are you? Hey Clinton, how are you? Hey Clinton, how are you? Hey Clinton, how are you? Hey Clinton, how are you? Hey Clinton, how are you? Hey Clinton, how are you? Hey Clinton, how are you? Hey Clinton, how are you? Hey Clinton, how are you? Hey Clinton, how are you? Hey Clinton, how are you? Hey Clinton, how are you? Hey Clinton, how are you? Hey Clinton, how are you? Hey Clinton, how are you? Hey Clinton, how are you? Hey Clinton, how are you? Hey Clinton, how are you? Hey Clinton, how are you? Hey Clinton, how are you? Hey Clinton, how are you? Hey Clinton, how are you? Hey Clinton, how are you? Hey Clinton, how are you? Hey Clinton, how are you? Hey Clinton, how are you? Hey Clinton, how are you? Hey Clinton, how are you? Hey Clinton, how are you? Hey Clinton, how are you? Hey Clinton, how are you? Hey Clinton, how are you? Hey Clinton, how are you? Hey Clinton, how are you? Hey Clinton, how are you? Hey Clinton, how are you? Hey Clinton, how are you? Hey Clinton, how are you? Hey Clinton, how are you? Hey Clinton, how are you? Hey Clinton, how are you? Hey Clinton, how are you? Hey Clinton, how are you? Hey Clinton, how are you? Hey Clinton, how are you? Hey Clinton, how are you? Hey Clinton, how are you? Hey Clinton, how are you? Hey Clinton, how are you? Hey Clinton, how are you? Hey Clinton, how are you? Hey Clinton, how are you? Hey Clinton, how are you? Hey Clinton, how are you? Hey Clinton, how are you? \n"
     ]
    },
    {
     "data": {
      "text/plain": [
       "str"
      ]
     },
     "execution_count": 22,
     "metadata": {},
     "output_type": "execute_result"
    }
   ],
   "source": [
    "# Sring will appear 100 times\n",
    "x = 'Hey Clinton, how are you? '\n",
    "print(x * 100)\n",
    "type(x)"
   ]
  }
 ],
 "metadata": {
  "kernelspec": {
   "display_name": "Python 3 (ipykernel)",
   "language": "python",
   "name": "python3"
  },
  "language_info": {
   "codemirror_mode": {
    "name": "ipython",
    "version": 3
   },
   "file_extension": ".py",
   "mimetype": "text/x-python",
   "name": "python",
   "nbconvert_exporter": "python",
   "pygments_lexer": "ipython3",
   "version": "3.9.13"
  }
 },
 "nbformat": 4,
 "nbformat_minor": 5
}
